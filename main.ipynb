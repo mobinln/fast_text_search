{
  "cells": [
    {
      "cell_type": "code",
      "execution_count": null,
      "metadata": {
        "colab": {
          "base_uri": "https://localhost:8080/"
        },
        "id": "y8vXvIvlP-iT",
        "outputId": "cd0d187f-b54d-4327-fe04-5d91411c1407"
      },
      "outputs": [],
      "source": [
        "%pip install voyager -q\n",
        "%pip install sentence-transformers -q\n",
        "%pip install datasets -q"
      ]
    },
    {
      "cell_type": "code",
      "execution_count": null,
      "metadata": {
        "id": "2DorOii-QUDx"
      },
      "outputs": [],
      "source": [
        "import numpy as np\n",
        "from voyager import Index, Space, StorageDataType\n",
        "from datasets import load_dataset\n",
        "from sentence_transformers import SentenceTransformer"
      ]
    },
    {
      "cell_type": "code",
      "execution_count": null,
      "metadata": {
        "colab": {
          "base_uri": "https://localhost:8080/",
          "height": 240,
          "referenced_widgets": [
            "ce463fbb2d6b4d3d89b3e7091e038ae5",
            "3fd4ea9be4554e7182caecdfe7af2d97",
            "b118267928364b3e93f1fb81705e0766",
            "11cb5a186c934d57962b2b57ebb0d93b",
            "0c88d172c3e5436b9ecc9245d6a72e77",
            "e3d33fab37f44d95bdd3e1edcc41b7db",
            "7b83eceb41024eb58dab85f0457d8d08",
            "fde101db163e40e1bbe6a8399a79a2d5",
            "7f79947482c24570b446f5588b3a5cfb",
            "8006c8e706484afc894fe4ac2a41b6b2",
            "826a736995ef45d0a659bb242b9f8b14",
            "3f6f9408706a452a95c7302bce2454e8",
            "c6859d3779004f55bfbf84d6426e2684",
            "d9b55c64eaaa4c39bf63a95074642e06",
            "1b8891dd0e5d4150a6dd2d3a72d5b45b",
            "cc4c3f9f4f4a42dd89a871578c270fcb",
            "bf5651666d344b66b78877637cdbe791",
            "c0358e97f3794dfead0eb4baa71b2ed0",
            "7d9a7e8536b5456fbd13eb3a1af11eb3",
            "fb9cd74c2e15445d9407eb9df7d1b4fa",
            "e1e6e8c512f94fe5b91b28c0f0b8bb4e",
            "de3e6e6cf4cd44f8808446ae69358aef",
            "9d8530aaca4644a4bc636dc445d7fffb",
            "452c3c607f9f47fa80bc251b6c33013d",
            "3a6c3c63d6cf4129908d392adaa0cfaf",
            "4f84041e30d54ce389e195d16ca49db9",
            "c940f97f2be44e359e36465e9b2dfe93",
            "8027db794d9e4f858fb60f5611949aa6",
            "4ceb80b3645a473197d86ab60aae193f",
            "159f1db19f304e4792ef71e4b0a9f714",
            "952c5ade66cd4d828ead8e773f9818d5",
            "7ca4994d9f474340bcfd92c83e8c2b68",
            "d1bc7af4cba344a4828ebdd9d6015633"
          ]
        },
        "id": "aV7ik0cuQ-ni",
        "outputId": "0194ed55-ce63-46db-c0f1-3ced08b7ef73"
      },
      "outputs": [],
      "source": [
        "ds = load_dataset(\"MongoDB/cosmopedia-wikihow-chunked\")\n",
        "ds = ds[\"train\"][\"text\"]"
      ]
    },
    {
      "cell_type": "code",
      "execution_count": null,
      "metadata": {
        "colab": {
          "base_uri": "https://localhost:8080/",
          "height": 369,
          "referenced_widgets": [
            "ce0d9401e65d4b26b5bae0a388408c3d",
            "1bab6b50c25748e2ac56dc8009f4f783",
            "1c49aa21343f44138e69bbda6a31f95e",
            "bb7f19ce6b3948f8afe38ae51f941bbb",
            "7b0e0751157b48a290d45cba3c156f47",
            "95e4a1d2d8e141ce849bca59ee0c7beb",
            "5dda599c2661479ca4173d4f26aff100",
            "5881dffe6a204b479b4f3a4cad611513",
            "b89d18d3f4e545d18c3cdedb2dad1356",
            "3fd52414925145548e1bdecf77c9ca7b",
            "1ebbeeb4a5c24428a095c68ff8099683",
            "cc635b7007b34372ad0b8ffcf16c2757",
            "47406fd653fb47bb94bbf046cc038087",
            "6f5d2c8cda98498b8a82d566b802eb51",
            "8d3bb09ca0c24b4dba34126482007828",
            "0eb820cf1b294f3282a4e9807ba33dd8",
            "2773b86b95d24ef58c5d4909255e9dec",
            "1cca18baa8cc4364830d6db45f39bbe1",
            "f8f3ed1adf4e48c1b0f9ae4bb5368afb",
            "addf8b9fb4ec4164b5c16e7235b31101",
            "97824352ee334eaaba2b3c633c02d168",
            "d5d048cfc4004768a809306df1c245b4",
            "e27464f21cd947dd8781d3d998feb789",
            "a734f69139e34aee90b5f65398d90398",
            "6cb158c0248a458fbf7ac8ad3f3aeacf",
            "21b617ffd05d44e4a316c788281d7c87",
            "d719ce4a3703425fa00266f3d3c840a2",
            "3fb31fd7055648098634363f50144c90",
            "0ae4676cb34347c7a7e2b4b17ba9fbe4",
            "6352b18958454098b90bd4d2ef4a2630",
            "e63b2efb2d754d79931431d49a236c7d",
            "5252bd4079274c5caaa9dd3ee31d269f",
            "8b9ab0398c2d47248bb5087d64ebceea",
            "6eb37ea780fe48fcb7386b7fc73f3e0b",
            "7977e364b6eb475ca649f2216b4d8679",
            "b39a755050a541f4bc91c89fe435b1b5",
            "60aaec904382442fa16ad6f7bb932751",
            "4248a9765c07424397ea6141bcac5371",
            "c9ad813202d54e48bdb843b914b5c47a",
            "9bfdc977942e4112a29ee3b0064b21fd",
            "162c50fd16dd444ea88d18d712389d28",
            "1e06429270e94296a5bdf08e3ac096b1",
            "21d3ce8fda62488d8c398ee7720e3de8",
            "160a33f58b744887aab3d75451bfe692",
            "6dd6fa424d064187863c64999236a6b1",
            "e5293f38ebe2464491de4275bb217ecd",
            "743e1542ddbf4d3fa47f2d5ecb649f0f",
            "0aa22063168545ad8341ab0f7ec1cfba",
            "2bf0f9a2df1543e7b65c67139f9fde9d",
            "1e3371a685d9449aa1194419b728152d",
            "d1e0ddc27c514f9985ba8ffaeb2c254a",
            "565b4ed0fd0f483e84b97770003b40ba",
            "1f779789d90c4fa0aebe63d0a837a9fd",
            "bcbca0e52d7340e6be6982234def8c5f",
            "75d45b2a0d03421baf018f87c5562997",
            "9e7e53c6b97c4946b32ada45d2c64d98",
            "21d8f2865603484eb6cbdfe174c3a9db",
            "d210aca692bc47df8d0184d1e369c70c",
            "574923b1b79b4e029b5f58ed588d3ccc",
            "57cbc3120b5a422b81cf6f588c5b4df3",
            "e3415ed4661548e487e4eec0274dd4e2",
            "38974b22b21d4a709c4cd0f1ce307f03",
            "290d8eea4b7244099a302eb00e85e5b7",
            "3b2dbf81a68f4aba987546d17fbec060",
            "0bd50d4dc7d0448aa23173db6c4134f7",
            "be4e976febf34910803def77dde0b784",
            "3f93b7ec63a14ef39cdb466bed0a3493",
            "3077884a8c6e48f890bb039f6d0276cf",
            "00d164baa78f46d7a2bc7085460a5a30",
            "ab8bd91bf47b44599888b9ea8082737a",
            "d366339da1c24241aa13f3ac6b8fc879",
            "2ee9109eb6be4dc585946fcb3c6bdb01",
            "31a787ec89554aeb9c55d2c3a57f7d2f",
            "2409802cf5df4ba88daf04a149dc9935",
            "010a99665c5f4205a5656c249f5f97a6",
            "26f300f0494747ac8c7111fd603ce1ac",
            "88ec809da30049a1bf38aebe903cdf3a",
            "cabb4c59bbff47bab848471a2684d271",
            "f144ede8ad7842afb0208de4999d2cf8",
            "dfbef0b114314e6cb47ebfcbd40fa812",
            "6f05510b5f5b4a389e73d93a3b26731e",
            "a59af0a0181a46e89eac813e0fa7973e",
            "ef99ec3a16004bd4bd7c7e9b53015f4a",
            "99bda40ee1b242bc9d248909031aac08",
            "36b0c3ababaf4af6b65e642b7585427f",
            "ca8b2e10feb84ab7b64e30fb0fd34428",
            "30f959137a944f0b8c1e3bb159b02b5f",
            "5c09615ae0ea47c480bb3611d421ca7b",
            "2b6f4cd948fe4bf5a995d36c80ade066",
            "3a005f424c8f44b5b393d945a8a8bcdc",
            "69fdbb391e2549e8bf7d8e1fa8698190",
            "f127cf411fe1453cb6639eaa1ed2ede9",
            "5964a63e647748ef975ff7e5d27e3c25",
            "7d5c12eb88fd4e12a8f0932ea69158cc",
            "c3deda814fb442aa85bda658b9bd90c8",
            "ed9f79d894b04f39988d3fe4f823836c",
            "e432c004b96d4f8593c850e444becece",
            "fcc98ecbf8344343b9b6badc5256d738",
            "52e92e4a73bc44d7b241b9b86c235d9e",
            "54123d33df944002b5ffc10beeae9d46",
            "0d88f1e63ec446a0ad7475ba3466da8e",
            "cbf441b7b8ea46229d66efb53a29b6b8",
            "7f17a193b05441e885ee37594e9a13c1",
            "90a2ee3760ed4300a465522cb6319201",
            "32702f5f92534b39a9e3eecdbacdd1fc",
            "d5ae974541c14a25a47ba16eab5dec49",
            "a77618f6b62a488d9530faf9c823bf7d",
            "caf702fc9d864d9eb02a0576dd028199",
            "f69c29e1488d4095b7dc62ab1c1c22d7",
            "686c7fc290c54e75b2c79f3aed7a23e3",
            "0b087dd1b9b341769ce5747513467666",
            "e9cb1ea9d79440b58372c27631a9ec24",
            "c2653ae3d1f84274aebce7dabf331990",
            "62c7ba1300e84cc89a4cba7ad9a3c103",
            "82a6bfdf846b4723935ec2303b67e769",
            "bbc80047524b4aca8ada2c34243818f7",
            "8dd10f94b3d7478288e80aa7f6bcf57c",
            "00943f89a63d44a0a5e40ce14b823222",
            "e0f3f067716b46d495d2b6c915349016",
            "1fb9fac38a6e4a88982ac631033f87ff",
            "f7d4bf4f79bc433dbfb5de95416aad18"
          ]
        },
        "id": "5uneytS8Rr7B",
        "outputId": "0dd50094-4c8c-469e-e1b7-4e92156c3552"
      },
      "outputs": [],
      "source": ["model = SentenceTransformer(\"all-MiniLM-L6-v2\")"]
    },
    {
      "cell_type": "code",
      "execution_count": null,
      "metadata": {
        "id": "4xxb8MtgS0GS"
      },
      "outputs": [],
      "source": ["n_dim = model.get_sentence_embedding_dimension()"]
    },
    {
      "cell_type": "code",
      "execution_count": null,
      "metadata": {
        "colab": {
          "base_uri": "https://localhost:8080/",
          "height": 49,
          "referenced_widgets": [
            "5fe3e8fd37574455be91ee777c80b3f2",
            "c2dba33d109a493f88c83efd0e7be22a",
            "d083207b57f943cebd4e2e42fdef229e",
            "cb03fe46dd7a4b7093603e39d2a75666",
            "7b10c3a654d94664b9b8e09b41d5a57e",
            "71f1b7bffd7d48f589e19ce18b4c1c86",
            "88f62fa1d66b4ae7b1db9d13983feffe",
            "881d6c23a5e04c9ab72bf71f77a752a6",
            "0ed6c2d14f7444749ef42678976bf6ce",
            "a0ea1a36594e4326bf63d5bcb83ad0d7",
            "1b3f738c73184011b0e1e40e5ef944a2"
          ]
        },
        "id": "YoqNrBinSpC8",
        "outputId": "7739d91f-b7df-43a3-fb07-ae3164de3273"
      },
      "outputs": [],
      "source": ["embeddings = model.encode(ds, show_progress_bar=True)"]
    },
    {
      "cell_type": "code",
      "execution_count": null,
      "metadata": {
        "id": "oz87yPC4QaFU"
      },
      "outputs": [],
      "source": [
        "index = Index(\n",
        "    Space.Cosine, num_dimensions=n_dim, storage_data_type=StorageDataType.Float8\n",
        ")\n",
        "index.add_items(embeddings)\n",
        "\n",
        "# Save the index to disk to reload later (or in Java!)\n",
        "index.save(\"output_file.voy\")"
      ]
    },
    {
      "cell_type": "code",
      "execution_count": null,
      "metadata": {
        "colab": {
          "base_uri": "https://localhost:8080/"
        },
        "id": "OnoY9JcyurBJ",
        "outputId": "ad746449-d478-4729-c710-40c94627060c"
      },
      "outputs": [],
      "source": ["!ls -l --block-size=M"]
    },
    {
      "cell_type": "code",
      "execution_count": null,
      "metadata": {
        "colab": {
          "base_uri": "https://localhost:8080/"
        },
        "id": "GOsXe2HSQcmm",
        "outputId": "caeffb02-838a-4fb8-8fea-72b2f53c94bc"
      },
      "outputs": [],
      "source": [
        "query = model.encode(\"Paris\")\n",
        "\n",
        "neighbors, distances = index.query(query, k=1)\n",
        "for i in neighbors:\n",
        "    print(i, ds[i])"
      ]
    },
    {
      "cell_type": "code",
      "execution_count": null,
      "metadata": {
        "colab": {
          "base_uri": "https://localhost:8080/"
        },
        "id": "t5I_C7vFQhOp",
        "outputId": "d347fb00-91c1-4da5-f709-7982f4442df2"
      },
      "outputs": [],
      "source": [
        "query = model.encode(\"Jet\")\n",
        "\n",
        "neighbors, distances = index.query(query, k=1)\n",
        "for i in neighbors:\n",
        "    print(i, ds[i])"
      ]
    },
    {
      "cell_type": "code",
      "execution_count": null,
      "metadata": {
        "id": "lESsvndxoCkL"
      },
      "outputs": [],
      "source": []
    }
  ],
  "metadata": {
    "accelerator": "GPU",
    "colab": {
      "gpuType": "T4",
      "provenance": []
    },
    "kernelspec": {
      "display_name": "Python 3",
      "name": "python3"
    },
    "language_info": {
      "name": "python"
    }
  },
  "nbformat": 4,
  "nbformat_minor": 0
}
